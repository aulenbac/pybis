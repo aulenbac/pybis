{
 "cells": [
  {
   "cell_type": "code",
   "execution_count": null,
   "metadata": {
    "collapsed": true
   },
   "outputs": [],
   "source": [
    "# Notes on accessing package information access using recent updates:\n",
    "\n",
    "# created __init__.py files (follows default package organization), \n",
    "# added a help report,\n",
    "# added a metadata read function, \n",
    "# added a version read function, \n",
    "# reorganized the package setup structure. \n",
    "\n",
    "# Examples of accessing package information are shown below.\n"
   ]
  },
  {
   "cell_type": "code",
   "execution_count": 2,
   "metadata": {
    "collapsed": false
   },
   "outputs": [],
   "source": [
    "# Notes install CSASL BIS package\n",
    "\n",
    "# For local install of BIS package (BIS folder stored on computer, pip installed):\n",
    "\n",
    "#    1) pip install your_path_to_bis_folder/bis\n",
    "\n",
    "#    e.g. pip install /Users/twellman/Downloads/bis\n",
    "\n",
    "# remote install w/ git and pip installed on local computer:\n",
    "\n",
    "#    1) pip install git+https://github.com/usgs-bcb/bis.git\n"
   ]
  },
  {
   "cell_type": "code",
   "execution_count": 18,
   "metadata": {
    "collapsed": true
   },
   "outputs": [],
   "source": [
    "import bis"
   ]
  },
  {
   "cell_type": "code",
   "execution_count": null,
   "metadata": {
    "collapsed": true
   },
   "outputs": [],
   "source": [
    "****************************************************\n",
    "*  'BIS PACKAGE INFORMATION'\n",
    "****************************************************"
   ]
  },
  {
   "cell_type": "code",
   "execution_count": 13,
   "metadata": {
    "collapsed": false
   },
   "outputs": [
    {
     "name": "stdout",
     "output_type": "stream",
     "text": [
      "Help on package bis:\n",
      "\n",
      "NAME\n",
      "    bis\n",
      "\n",
      "FILE\n",
      "    /Users/twellman/anaconda/lib/python2.7/site-packages/bis/__init__.py\n",
      "\n",
      "DESCRIPTION\n",
      "    ~~~~~~~~~~~~~~~~~~~~~\n",
      "    BIS PYTHON PACKAGE\n",
      "    ~~~~~~~~~~~~~~~~~~~~~\n",
      "    \n",
      "    A set of helper code for Biogeographic Information System projects\n",
      "    \n",
      "    url : https://maps.usgs.gov/\n",
      "    Email : bcb@usgs.gov\n",
      "    \n",
      "    Author: Core Science Analytics, Synthesis and Libraries\n",
      "    Core Science Systems Division, U.S. Geological Survey\n",
      "    \n",
      "    Software metadata: retrieve using \"bis.get_package_metadata()\"\n",
      "\n",
      "PACKAGE CONTENTS\n",
      "    bis\n",
      "    itis\n",
      "    natureserve\n",
      "    sgcn\n",
      "    tess\n",
      "    tir\n",
      "    worms\n",
      "\n",
      "FUNCTIONS\n",
      "    get_package_metadata()\n",
      "        # metadata retrieval\n",
      "\n",
      "DATA\n",
      "    __version__ = '0.0.1'\n",
      "\n",
      "VERSION\n",
      "    0.0.1\n",
      "\n",
      "\n"
     ]
    }
   ],
   "source": [
    "help(bis)"
   ]
  },
  {
   "cell_type": "code",
   "execution_count": 14,
   "metadata": {
    "collapsed": false
   },
   "outputs": [
    {
     "data": {
      "text/plain": [
       "['__builtins__',\n",
       " '__doc__',\n",
       " '__file__',\n",
       " '__name__',\n",
       " '__package__',\n",
       " '__path__',\n",
       " '__version__',\n",
       " 'bis',\n",
       " 'get_package_metadata',\n",
       " 'itis',\n",
       " 'natureserve',\n",
       " 'pkg_resources',\n",
       " 'sgcn',\n",
       " 'tess',\n",
       " 'tir',\n",
       " 'worms']"
      ]
     },
     "execution_count": 14,
     "metadata": {},
     "output_type": "execute_result"
    }
   ],
   "source": [
    "dir(bis)"
   ]
  },
  {
   "cell_type": "code",
   "execution_count": 15,
   "metadata": {
    "collapsed": false
   },
   "outputs": [
    {
     "name": "stdout",
     "output_type": "stream",
     "text": [
      "Metadata-Version: 1.1\n",
      "Name: bis\n",
      "Version: 0.0.1\n",
      "Summary: A set of helper code for Biogeographic Information System projects\n",
      "Home-page: https://maps.usgs.gov/\n",
      "Author: USGS CSASL BCB\n",
      "Author-email: bcb@usgs.gov\n",
      "License: None\n",
      "Description: Biogeographic Information System (BIS) Helper Code\n",
      "=======================\n",
      "This module contains scripts and configuration details needed for Biogeographic Information System projects.\n",
      "Under USGS Software Release Policy, the software codes here are considered preliminary, not released officially, and posted to this repo for informal sharing among colleagues.\n",
      "This software is preliminary or provisional and is subject to revision. It is being provided to meet the need for timely best science. The software has not received final approval by the U.S. Geological Survey (USGS). No warranty, expressed or implied, is made by the USGS or the U.S. Government as to the functionality of the software and related material nor shall the fact of release constitute any such warranty. The software is provided on the condition that neither the USGS nor the U.S. Government shall be held liable for any damages resulting from the authorized or unauthorized use of the software.\n",
      "Keywords: biogeography\n",
      "Platform: UNKNOWN\n",
      "Classifier: Development Status :: 3 - Alpha\n",
      "Classifier: Intended Audience :: Developers\n",
      "Classifier: Topic :: Software Development :: Build Tools\n",
      "Classifier: License :: OSI Approved :: CC0\n",
      "Classifier: Programming Language :: Python :: 2\n",
      "Classifier: Programming Language :: Python :: 2.7\n",
      "Classifier: Programming Language :: Python :: 3\n",
      "Classifier: Programming Language :: Python :: 3.3\n",
      "Classifier: Programming Language :: Python :: 3.4\n",
      "Classifier: Programming Language :: Python :: 3.5\n"
     ]
    }
   ],
   "source": [
    "bis.get_package_metadata()"
   ]
  }
 ],
 "metadata": {
  "kernelspec": {
   "display_name": "Python [conda root]",
   "language": "python",
   "name": "conda-root-py"
  },
  "language_info": {
   "codemirror_mode": {
    "name": "ipython",
    "version": 2
   },
   "file_extension": ".py",
   "mimetype": "text/x-python",
   "name": "python",
   "nbconvert_exporter": "python",
   "pygments_lexer": "ipython2",
   "version": "2.7.13"
  }
 },
 "nbformat": 4,
 "nbformat_minor": 2
}
